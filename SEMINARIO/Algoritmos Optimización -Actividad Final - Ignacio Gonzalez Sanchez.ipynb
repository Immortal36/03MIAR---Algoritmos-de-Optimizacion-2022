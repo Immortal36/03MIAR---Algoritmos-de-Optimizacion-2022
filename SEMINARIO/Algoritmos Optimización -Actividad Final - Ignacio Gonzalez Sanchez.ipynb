{
  "nbformat": 4,
  "nbformat_minor": 0,
  "metadata": {
    "colab": {
      "provenance": []
    },
    "kernelspec": {
      "name": "python3",
      "display_name": "Python 3"
    }
  },
  "cells": [
    {
      "cell_type": "markdown",
      "metadata": {
        "id": "hVbXYX-RfPWh"
      },
      "source": [
        "# Algoritmos de optimización - Actividad Final<br>\n",
        "Nombre y Apellidos: Ignacio González Sánchez   <br>\n",
        "Url Git: https://github.com/Immortal36/03MIAR---Algoritmos-de-Optimizacion-2022/tree/main/SEMINARIO <br>\n",
        "Url Colab: https://colab.research.google.com/drive/1xe1mTB8FVPGzbn8tbvFWdiws5WA7Obcm?usp=sharing <br>\n",
        "Problema: 3. Combinar cifras y operaciones\n",
        "\n",
        "Descripción del problema:\n",
        "\n",
        "El problema consiste en analizar el siguiente problema y diseñar un algoritmo que lo resuelva.\n",
        "\n",
        "Disponemos de las 9 cifras del 1 al 9 (excluimos el cero) y de los 4 signos básicos de las operaciones fundamentales: suma(+), resta(-), multiplicación(*) y división(/)\n",
        "\n",
        "Debemos combinarlos alternativamente sin repetir ninguno de ellos para obtener una cantidad\n",
        "dada. Un ejemplo sería para obtener el 4: 4+2-6/3*1 = 4\n",
        "\n",
        "Las respuestas marcadas con (*) es obligatorio responderlas.\n",
        "\n",
        "\n",
        "\n",
        "\n",
        "\n",
        "                                        "
      ]
    },
    {
      "cell_type": "markdown",
      "source": [
        "## **Posibilidades**"
      ],
      "metadata": {
        "id": "jUuZv8a5Uju1"
      }
    },
    {
      "cell_type": "markdown",
      "metadata": {
        "id": "3_-exlrTgLd-"
      },
      "source": [
        "### (*) ¿Cuantas posibilidades hay sin tener en cuenta las restricciones?<br>"
      ]
    },
    {
      "cell_type": "markdown",
      "source": [
        "Para determinar el número total de posibles soluciones primeros debemos identificar las restricciones. Las restricciones que se nos imponen son las siguientes:<br><br>\n",
        "•\tCombinarlos alternativamente ***sin repetir ninguno de ellos*** para obtener una cantidad dada<br><br>\n",
        "Según lo anterior únicamente tenemos una única restricción que nos aplican, combinar alternativamente no repetir ninguno de los dígitos o símbolos utilizados. Eliminando esta restricción las soluciones serían cualquier combinación de cinco dígitos del 1 al 9 intercalados con cuatro de los símbolo +, -, * y /.<br><br>\n",
        "Ejemplos de soluciones: 5+5+5+5+5, 6*7*6/7/6, 5-6*4/5, etc.<br><br>\n",
        "Si eliminamos esta restricción el número de soluciones posibles serían la elección de cinco dígitos con repetición y la elección de cuatro símbolos con repetición. Según esto las posibilidades serían 9^5 ya que tenemos que elegir 5 dígitos y para cada elección tenemos 9 posibilidades, puesto que puede haber repetición, y aplicando lo mismo para los símbolos las posibilidades serían 4^4. Estas posibilidades hay que juntarlas pues una solución se basa en la combinación de ambas, de esta forma las posibilidades totales serían 9^5 * 4^4, esto da como resultado 15116544.\n"
      ],
      "metadata": {
        "id": "eyDRSKyBgaKI"
      }
    },
    {
      "cell_type": "markdown",
      "metadata": {
        "id": "WfCUqJyKhPcw"
      },
      "source": [
        "### ¿Cuantas posibilidades hay teniendo en cuenta todas las restricciones."
      ]
    },
    {
      "cell_type": "markdown",
      "source": [
        "Si tenemos en cuenta las restricciones necesitamos 5 números comprendidos entre uno y nueve y 4 operaciones básicas, las cuales pueden ser suma, resta, multiplicación y división, para ambos conjuntos no se puede repetir ninguno de los valores.<br><br>\n",
        "Teniendo en cuenta las restricciones para escoger los números tendremos 9!/4! Esto se debe a que en la primera posición tendremos 9 posibilidades, para la segunda 9-1, para la tercera 9-3 y así hasta el final, sin embargo, para que las posibilidades fuesen 9! Tendría que llegar el caso en el que en ultima instancia únicamente tengamos un único número posible, pero en nuestro caso no es así pues únicamente necesitamos cinco números, no nueve. En base a esto las ultimas cuatro posiciones no son necesarias en la operación 9*8*7*6*5*4*3*2*1, por ello dividimos el valor 9! Entre 4!<br><br>\n",
        "Para seleccionar las operaciones tendremos 4! Posibilidades pues en este caso si tenemos 4 posibilidades, luego 3, 2 y finalmente 1 cumpliéndose 4!<br><br>\n",
        "Finalmente en base a la combinación de las dos posibilidades tenemos que existen 362880, este valor se obtiene de calcular 9!/4! * 4!\n"
      ],
      "metadata": {
        "id": "_lwcfEq92mq_"
      }
    },
    {
      "cell_type": "markdown",
      "metadata": {
        "id": "dzynfVJahHoY"
      },
      "source": [
        "## **Modelo para el espacio de soluciones**\n",
        "\n"
      ]
    },
    {
      "cell_type": "markdown",
      "metadata": {
        "id": "xFIJrOwKi2Ti"
      },
      "source": [
        "### (*) ¿Cual es la estructura de datos que mejor se adapta al problema? Argumentalo.(Es posible que hayas elegido una al principio y veas la necesidad de cambiar, arguentalo)"
      ]
    },
    {
      "cell_type": "markdown",
      "source": [
        "En mi caso he decidido utilizar un vector que contenga las posibles soluciones. Esto se debe a que considero que es la estructura de datos que mejor se adapta al ser sencilla, fácil de utilizar y cumple perfectamente su función."
      ],
      "metadata": {
        "id": "PX7e2-6g11wJ"
      }
    },
    {
      "cell_type": "markdown",
      "metadata": {
        "id": "7Z9U2W7bi-XS"
      },
      "source": [
        "### Según el modelo para el espacio de soluciones<br>\n"
      ]
    },
    {
      "cell_type": "markdown",
      "source": [
        "#### (*) ¿Es un problema de maximización o minimización?"
      ],
      "metadata": {
        "id": "ySbTRylGq0B9"
      }
    },
    {
      "cell_type": "markdown",
      "source": [
        "Este problema no corresponde a un problema de maximización o minimización, sino que se corresponde con aquellos denominados de exploración."
      ],
      "metadata": {
        "id": "WYyxkTQvq4HR"
      }
    },
    {
      "cell_type": "markdown",
      "source": [
        "#### (*) ¿Cual es la función objetivo?"
      ],
      "metadata": {
        "id": "8t64EwpBuZeg"
      }
    },
    {
      "cell_type": "markdown",
      "source": [
        "Como se indica en la pregunta anterior este problema no pertenece a aquellos denominados de maximización o minimización, sino a aquellos denominados de exploración. Por lo tanto, estos problemas no poseen una función objetivo la cual deban maximizar o minimizar para encontrar la solución óptima."
      ],
      "metadata": {
        "id": "b4cbonBcuV_I"
      }
    },
    {
      "cell_type": "markdown",
      "source": [
        "## **Fuerza bruta**"
      ],
      "metadata": {
        "id": "S20WCO8WU4C-"
      }
    },
    {
      "cell_type": "markdown",
      "metadata": {
        "id": "rlnTYgY1j6I2"
      },
      "source": [
        "#### Diseña un algoritmo para resolver el problema por fuerza bruta"
      ]
    },
    {
      "cell_type": "code",
      "metadata": {
        "id": "CJb5sQ0qkENy"
      },
      "source": [
        "from itertools import product\n",
        "import random\n",
        "\n",
        "def find_expression(objetivo):\n",
        "    operadores = [\"+\", \"-\", \"*\", \"/\"]\n",
        "    numeros = ['1', '2', '3', '4', '5', '6', '7', '8', '9']\n",
        "\n",
        "    posibilidades = list(product(numeros, operadores, numeros, operadores, numeros, operadores, numeros, operadores, numeros))\n",
        "\n",
        "    for exp in posibilidades:\n",
        "      if exp.count('1') <= 1 and \\\n",
        "      exp.count('2') <= 1 and \\\n",
        "      exp.count('3') <= 1 and \\\n",
        "      exp.count('4') <= 1 and \\\n",
        "      exp.count('5') <= 1 and \\\n",
        "      exp.count('6') <= 1 and \\\n",
        "      exp.count('7') <= 1 and \\\n",
        "      exp.count('8') <= 1 and \\\n",
        "      exp.count('9') <= 1 and \\\n",
        "      exp.count('+') <= 1 and \\\n",
        "      exp.count('-') <= 1 and \\\n",
        "      exp.count('*') <= 1 and \\\n",
        "      exp.count('/') <= 1:\n",
        "\n",
        "        expresion = ''\n",
        "        for elemento in exp:\n",
        "          expresion = expresion + elemento\n",
        "\n",
        "        if eval(expresion) == objetivo:\n",
        "          return expresion\n",
        "    \n",
        "    return 'No se ha podido encontrar una expresión que obtenga el valor ' + str(objetivo)"
      ],
      "execution_count": null,
      "outputs": []
    },
    {
      "cell_type": "code",
      "source": [
        "# Probamos el algoritmo\n",
        "objetivo = random.randrange(-50, 50)\n",
        "resultado = find_expression(objetivo)\n",
        "print('Objetivo: ' + str(objetivo) + '\\tExpresion: ' + resultado + '\\tValor: ' + str(eval(resultado)))"
      ],
      "metadata": {
        "colab": {
          "base_uri": "https://localhost:8080/"
        },
        "id": "SHs1KOzFrQ__",
        "outputId": "bc952e74-b041-4bdf-a427-31e722293971"
      },
      "execution_count": null,
      "outputs": [
        {
          "output_type": "stream",
          "name": "stdout",
          "text": [
            "Objetivo: 8\tExpresion: 1+2*5-9/3\tValor: 8.0\n"
          ]
        }
      ]
    },
    {
      "cell_type": "markdown",
      "metadata": {
        "id": "tgrnsC2nkFa8"
      },
      "source": [
        "#### Calcula la complejidad del algoritmo por fuerza bruta"
      ]
    },
    {
      "cell_type": "markdown",
      "source": [
        "La complejidad de resolver el problema mediante fuerza bruta es de O(n^3) esto se debe a que, aunque nuestro algoritmo únicamente tiene un bucle, la función que utilizamos para realizar todas las combinaciones tiene una complejidad de O(n^3) y comparada a la complejidad de nuestro algoritmo O(n) prevalece la complejidad de O(n^3).<br><br>\n",
        "En la sección final, en el apartado de bibliografía, indico la web donde he podido comprobar la complejidad de dicha función.\n"
      ],
      "metadata": {
        "id": "zn6-XUM1rFpM"
      }
    },
    {
      "cell_type": "markdown",
      "source": [
        "## **Aplicar una estrategia diferente a fuerza bruta**"
      ],
      "metadata": {
        "id": "9LGoyl1ZXfYm"
      }
    },
    {
      "cell_type": "markdown",
      "metadata": {
        "id": "txbrmLmskReM"
      },
      "source": [
        "### (*) Diseña un algoritmo que mejore la complejidad del algortimo por fuerza bruta. Argumenta porque crees que mejora el algoritmo por fuerza bruta"
      ]
    },
    {
      "cell_type": "markdown",
      "source": [
        "En nuestro caso hemos resuelto el problema utilizando algoritmos genéticos."
      ],
      "metadata": {
        "id": "IEIGzi9ospbL"
      }
    },
    {
      "cell_type": "code",
      "metadata": {
        "id": "m1eyM21Vkabg"
      },
      "source": [
        "import random\n",
        "\n",
        "NUMEROS = ['1', '2', '3', '4', '5', '6', '7', '8', '9']\n",
        "OPERACIONES = [\"+\", \"-\", \"*\", \"/\"]\n",
        "\n",
        "# Función que realiza la reproducción entre dos individuos\n",
        "def reproducir(padre1, padre2):\n",
        "    padre1 = list(padre1)\n",
        "    padre2 = list(padre2)\n",
        "    hijo = ''\n",
        "\n",
        "    for i in range(len(padre1)):\n",
        "        if random.random() <= 0.5 and hijo.count(padre1[i]) == 0:\n",
        "            hijo += padre1[i]\n",
        "\n",
        "        elif hijo.count(padre2[i]) == 0:\n",
        "            hijo += padre2[i]\n",
        "\n",
        "        else:\n",
        "            if i % 2 == 0:\n",
        "                valor = random.choice(NUMEROS)\n",
        "                while hijo.count(valor) == 1:\n",
        "                    valor = random.choice(NUMEROS)\n",
        "            else:\n",
        "                for i in OPERACIONES:\n",
        "                    if hijo.count(i) == 0:\n",
        "                        valor = i\n",
        "\n",
        "            hijo += valor\n",
        "\n",
        "    return hijo\n",
        "\n",
        "# Función que muta un individuo\n",
        "def mutar(elemento):\n",
        "    posicion = random.randint(0, 8)\n",
        "    elemento = list(elemento)\n",
        "\n",
        "    if posicion % 2 == 0:\n",
        "        valor = random.choice(NUMEROS)\n",
        "        while elemento.count(valor) == 1:\n",
        "            valor = random.choice(NUMEROS)\n",
        "\n",
        "        elemento[posicion] = valor\n",
        "    else:\n",
        "        val1, val2 = random.randrange(1, 8, 2), random.randrange(1, 8, 2)\n",
        "        while val1 == val2:\n",
        "            val2 = random.randrange(1, 8, 2)\n",
        "\n",
        "        oper = elemento[val1]\n",
        "        elemento[val1] = elemento[val2]\n",
        "        elemento[val2] = oper\n",
        "\n",
        "    return genera_expresion(elemento)\n",
        "\n",
        "# En base a una lista de strings genera una cadena de texto\n",
        "def genera_expresion(lista):\n",
        "    expresion = ''\n",
        "    for elemento in lista:\n",
        "        expresion += elemento\n",
        "\n",
        "    return expresion\n",
        "\n",
        "# Función fitness, esta se calcula como el valor absoluto de la diferencia entre el objetivo y el valor de la expresion |objetivo - valor_expresion|\n",
        "def fitness(solution, objetivo):\n",
        "    return round(abs(objetivo - eval(solution)), 1)\n",
        "\n",
        "# Función principal del algoritmo genético\n",
        "def algoritmo_genetico(current_population, objetivo, epocas = 200, elite_size = 20):\n",
        "    mejor, iters = 0, 0\n",
        "    \n",
        "    if elite_size == 0:\n",
        "        elite_size = 2\n",
        "    elif elite_size%2 != 0:\n",
        "        elite_size += 1\n",
        "\n",
        "    # Bucle de generaciones\n",
        "    while iters <= epocas:\n",
        "        # Orendamos la población en base a su fitness, cuanto menor sea este mejor posicionado\n",
        "        current_population = sorted(current_population, key=lambda x: fitness(x, objetivo))\n",
        "        elites = current_population[:elite_size]\n",
        "\n",
        "        if(fitness(elites[0], objetivo) == 0):\n",
        "            return elites[0]\n",
        "        else:\n",
        "            if elites[0] != mejor:\n",
        "                mejor = elites[0]\n",
        "\n",
        "        hijos = []\n",
        "\n",
        "        # Las eleites siempre se reproducen\n",
        "        for i in range(0, len(elites), 2):\n",
        "            hijos.append(reproducir(elites[i], elites[i + 1]))\n",
        "\n",
        "        for i in range(len(current_population)):\n",
        "\n",
        "            # Reproducción\n",
        "            if random.random() <= 0.85:\n",
        "                padre1 = current_population[i]\n",
        "                padre2 = random.choice(current_population)\n",
        "\n",
        "                while padre1 == padre2:\n",
        "                    padre2 = random.choice(current_population)\n",
        "\n",
        "                hijos.append(reproducir(padre1, padre2))\n",
        "\n",
        "            # Mutación\n",
        "            if random.random() <= 0.3:\n",
        "                current_population[i] = mutar(current_population[i])\n",
        "\n",
        "        current_population = current_population[:len(current_population) - len(hijos)]\n",
        "        current_population += (hijos)\n",
        "\n",
        "        iters += 1\n",
        "\n",
        "    return mejor"
      ],
      "execution_count": null,
      "outputs": []
    },
    {
      "cell_type": "markdown",
      "metadata": {
        "id": "eGDB4K6uk1iN"
      },
      "source": [
        "### (*) Calcula la complejidad del algoritmo "
      ]
    },
    {
      "cell_type": "markdown",
      "source": [
        "En el mejor de los casos la complejidad del algoritmo es O(n) pues siempre se crea la población inicial que tiene esta complejidad y se recorre la población para calcular su fitness y ordenarla. En este caso estamos obviando que la complejidad de la función sorted es O(n) para recorrer y ordenar la función.\n",
        "\n",
        "En el peor de los casos la complejidad será de O(n^2) al tener que realizar todas las épocas y en cada una de ellas recorrer todos los elementos.\n"
      ],
      "metadata": {
        "id": "zH0ss4aslXOU"
      }
    },
    {
      "cell_type": "markdown",
      "source": [
        "## **Generar conjunto de datos**"
      ],
      "metadata": {
        "id": "w_LeqcUoXlRU"
      }
    },
    {
      "cell_type": "markdown",
      "metadata": {
        "id": "3M6QjTsSkmYe"
      },
      "source": [
        "### Según el problema (y tenga sentido), diseña un juego de datos de entrada aleatorios"
      ]
    },
    {
      "cell_type": "code",
      "metadata": {
        "id": "sJ-N2etjkyWc"
      },
      "source": [
        "NUMEROS = ['1', '2', '3', '4', '5', '6', '7', '8', '9']\n",
        "OPERACIONES = [\"+\", \"-\", \"*\", \"/\"]\n",
        "\n",
        "# Genera una población aleatoria válida\n",
        "def genera_poblacion_aleatoria(population_size):\n",
        "    poblacion = []\n",
        "\n",
        "    for i in range(population_size):\n",
        "        valSeleccionados = []\n",
        "        oprSeleccionador = []\n",
        "\n",
        "        while len(valSeleccionados) < 5:\n",
        "            elemento = random.choice(NUMEROS)\n",
        "            if elemento not in valSeleccionados:\n",
        "                valSeleccionados.append(elemento)\n",
        "\n",
        "        while len(oprSeleccionador) < 4:\n",
        "            elemento = random.choice(OPERACIONES)\n",
        "            if elemento not in oprSeleccionador:\n",
        "                oprSeleccionador.append(elemento)\n",
        "\n",
        "        poblacion.append(\n",
        "            valSeleccionados[0] +\n",
        "            oprSeleccionador[0] +\n",
        "            valSeleccionados[1] +\n",
        "            oprSeleccionador[1] +\n",
        "            valSeleccionados[2] +\n",
        "            oprSeleccionador[2] +\n",
        "            valSeleccionados[3] +\n",
        "            oprSeleccionador[3] +\n",
        "            valSeleccionados[4]\n",
        "        )\n",
        "\n",
        "    return poblacion"
      ],
      "execution_count": null,
      "outputs": []
    },
    {
      "cell_type": "code",
      "source": [
        "genera_poblacion_aleatoria(20)"
      ],
      "metadata": {
        "colab": {
          "base_uri": "https://localhost:8080/"
        },
        "id": "dmUHPAtpowNP",
        "outputId": "b2be7cf9-dc26-479c-caf8-0dc25e06c9c3"
      },
      "execution_count": null,
      "outputs": [
        {
          "output_type": "execute_result",
          "data": {
            "text/plain": [
              "['5-4/2*8+9',\n",
              " '8+4-5*1/7',\n",
              " '9-1/2+5*4',\n",
              " '6+1-3*9/8',\n",
              " '1/3-6+5*2',\n",
              " '6-2+7*9/4',\n",
              " '6/7-9*2+5',\n",
              " '9-8+7*2/3',\n",
              " '8*5/2-7+3',\n",
              " '1*9-5+3/7',\n",
              " '9*8-3+4/7',\n",
              " '9-2/8*1+6',\n",
              " '7-8/5*6+3',\n",
              " '3*7/9+6-2',\n",
              " '1/5*4+6-3',\n",
              " '5+7*4-8/6',\n",
              " '4+7-3/1*2',\n",
              " '2-4/8*3+6',\n",
              " '3-2+8/6*9',\n",
              " '8-3/4+5*1']"
            ]
          },
          "metadata": {},
          "execution_count": 7
        }
      ]
    },
    {
      "cell_type": "markdown",
      "metadata": {
        "id": "zy5ZROmjlGo1"
      },
      "source": [
        "### Aplica el algoritmo al juego de datos generado"
      ]
    },
    {
      "cell_type": "code",
      "source": [
        "# Probamos el algoritmo genético\n",
        "TAM_POBLACION = 250\n",
        "\n",
        "objetivo = random.randrange(-50, 50)\n",
        "resultado = algoritmo_genetico(genera_poblacion_aleatoria(TAM_POBLACION), objetivo)\n",
        "\n",
        "print('Objetivo: ' + str(objetivo) + '\\tResultado: ' + resultado + '\\tValor: ' + str(eval(resultado)))"
      ],
      "metadata": {
        "colab": {
          "base_uri": "https://localhost:8080/"
        },
        "id": "nm7mmDD_iNE9",
        "outputId": "f8831b6e-16eb-4934-e187-308d67df8243"
      },
      "execution_count": null,
      "outputs": [
        {
          "output_type": "stream",
          "name": "stdout",
          "text": [
            "Objetivo: -33\tResultado: 4+8-9/1*5\tValor: -33.0\n"
          ]
        }
      ]
    },
    {
      "cell_type": "code",
      "source": [
        "# Probamos N veces el algortimo genético\n",
        "TAM_POBLACION = 250\n",
        "PRUEBAS = 20\n",
        "for i in range(PRUEBAS):\n",
        "    objetivo = random.randrange(-50, 50)\n",
        "    resultado = algoritmo_genetico(genera_poblacion_aleatoria(TAM_POBLACION), objetivo)\n",
        "    print('Prueba: ' + str(i + 1) + '\\tObjetivo: ' + str(objetivo) + '\\tResultado: ' + resultado + '\\tValor: ' + str(eval(resultado)))"
      ],
      "metadata": {
        "colab": {
          "base_uri": "https://localhost:8080/"
        },
        "id": "C1mwcqkOiMTu",
        "outputId": "6be72722-9638-4ab1-a7c6-6be7706a15a6"
      },
      "execution_count": null,
      "outputs": [
        {
          "output_type": "stream",
          "name": "stdout",
          "text": [
            "Prueba: 1\tObjetivo: 12\tResultado: 7+9-3/6*8\tValor: 12.0\n",
            "Prueba: 2\tObjetivo: 13\tResultado: 8/6*9-4+5\tValor: 13.0\n",
            "Prueba: 3\tObjetivo: -20\tResultado: 6/1+9-5*7\tValor: -20.0\n",
            "Prueba: 4\tObjetivo: 45\tResultado: 5+6*7/1-2\tValor: 45.0\n",
            "Prueba: 5\tObjetivo: -2\tResultado: 1*8/4-9+5\tValor: -2.0\n",
            "Prueba: 6\tObjetivo: 30\tResultado: 2-8/4+5*6\tValor: 30.0\n",
            "Prueba: 7\tObjetivo: -48\tResultado: 6+4/2-8*7\tValor: -48.0\n",
            "Prueba: 8\tObjetivo: -22\tResultado: 7-8*4+9/3\tValor: -22.0\n",
            "Prueba: 9\tObjetivo: -16\tResultado: 3+9-7/1*4\tValor: -16.0\n",
            "Prueba: 10\tObjetivo: -18\tResultado: 8/4-9*3+7\tValor: -18.0\n",
            "Prueba: 11\tObjetivo: 31\tResultado: 4+6*5/1-3\tValor: 31.0\n",
            "Prueba: 12\tObjetivo: 3\tResultado: 2*4+6/3-7\tValor: 3.0\n",
            "Prueba: 13\tObjetivo: 36\tResultado: 7/1*5+4-3\tValor: 36.0\n",
            "Prueba: 14\tObjetivo: 27\tResultado: 6/3-7+4*8\tValor: 27.0\n",
            "Prueba: 15\tObjetivo: -36\tResultado: 9-6/1*8+3\tValor: -36.0\n",
            "Prueba: 16\tObjetivo: 26\tResultado: 7-5/1+4*6\tValor: 26.0\n",
            "Prueba: 17\tObjetivo: 39\tResultado: 4/2+7*6-5\tValor: 39.0\n",
            "Prueba: 18\tObjetivo: 39\tResultado: 6/1*7-5+2\tValor: 39.0\n",
            "Prueba: 19\tObjetivo: 12\tResultado: 4*9/2-7+1\tValor: 12.0\n",
            "Prueba: 20\tObjetivo: -18\tResultado: 1-6/2*8+5\tValor: -18.0\n"
          ]
        }
      ]
    },
    {
      "cell_type": "markdown",
      "source": [
        "## **Cálculo de valores posibles**"
      ],
      "metadata": {
        "id": "GoiTslpv4sXG"
      }
    },
    {
      "cell_type": "markdown",
      "source": [
        "Realizando unas pequeñas modificaciones al algoritmo por fuerza bruta podemos obtener todos los valores posibles ya que en esta solución se generan todas las combinaciones posibles."
      ],
      "metadata": {
        "id": "lauS1ZWOHy0U"
      }
    },
    {
      "cell_type": "code",
      "source": [
        "from itertools import product\n",
        "\n",
        "def obtener_valores_posibles():\n",
        "    operadores = [\"+\", \"-\", \"*\", \"/\"]\n",
        "    numeros = ['1', '2', '3', '4', '5', '6', '7', '8', '9']\n",
        "\n",
        "    posibilidades = list(product(numeros, operadores, numeros, operadores, numeros, operadores, numeros, operadores, numeros))\n",
        "\n",
        "    valores_posibles = []\n",
        "\n",
        "    for exp in posibilidades:\n",
        "      if exp.count('1') <= 1 and \\\n",
        "      exp.count('2') <= 1 and \\\n",
        "      exp.count('3') <= 1 and \\\n",
        "      exp.count('4') <= 1 and \\\n",
        "      exp.count('5') <= 1 and \\\n",
        "      exp.count('6') <= 1 and \\\n",
        "      exp.count('7') <= 1 and \\\n",
        "      exp.count('8') <= 1 and \\\n",
        "      exp.count('9') <= 1 and \\\n",
        "      exp.count('+') <= 1 and \\\n",
        "      exp.count('-') <= 1 and \\\n",
        "      exp.count('*') <= 1 and \\\n",
        "      exp.count('/') <= 1:\n",
        "\n",
        "        expresion = ''\n",
        "        for elemento in exp:\n",
        "          expresion = expresion + elemento\n",
        "\n",
        "        valor_expr = eval(expresion)\n",
        "        if float(valor_expr).is_integer() and int(valor_expr) not in valores_posibles:\n",
        "           valores_posibles.append(valor_expr)\n",
        "\n",
        "    return sorted(valores_posibles)"
      ],
      "metadata": {
        "id": "NmoPVzII6nSY"
      },
      "execution_count": null,
      "outputs": []
    },
    {
      "cell_type": "code",
      "source": [
        "valores_posibles = obtener_valores_posibles()"
      ],
      "metadata": {
        "id": "55o7Bse4HWEM"
      },
      "execution_count": null,
      "outputs": []
    },
    {
      "cell_type": "markdown",
      "source": [
        "### ¿Qué valor máximo y mínimo se pueden obtener según las condiciones del problema?"
      ],
      "metadata": {
        "id": "FT5sZgFX4xtU"
      }
    },
    {
      "cell_type": "code",
      "source": [
        "print('El valor mínimo que podemos calcular es: ' + str(valores_posibles[0]))\n",
        "print('El valor máximo que podemos calcular es: ' + str(valores_posibles[-1]))"
      ],
      "metadata": {
        "colab": {
          "base_uri": "https://localhost:8080/"
        },
        "id": "plMQgSTyHNfI",
        "outputId": "36e420cc-fd17-4f3c-a90d-2e003d46763a"
      },
      "execution_count": null,
      "outputs": [
        {
          "output_type": "stream",
          "name": "stdout",
          "text": [
            "El valor mínimo que podemos calcular es: -69.0\n",
            "El valor máximo que podemos calcular es: 77.0\n"
          ]
        }
      ]
    },
    {
      "cell_type": "markdown",
      "source": [
        "### ¿Es posible encontrar todos los valores enteros posibles entre dicho mínimo y máximo ?"
      ],
      "metadata": {
        "id": "B3dKgVa442hr"
      }
    },
    {
      "cell_type": "code",
      "source": [
        "if list(range(int(valores_posibles[0]), int(valores_posibles[-1]) + 1)) == valores_posibles:\n",
        "  print('Hemos coprobado que la lista contiene todos los valores entre ' + str(valores_posibles[0]) + ' y ' + str(valores_posibles[-1]))\n",
        "else:\n",
        "  print('La lista no contiene todos los valores entre ' + str(valores_posibles[0]) + ' y ' + str(valores_posibles[-1]))"
      ],
      "metadata": {
        "colab": {
          "base_uri": "https://localhost:8080/"
        },
        "id": "HVoj5YllHO4s",
        "outputId": "a5dd4c84-603f-4022-e9d5-21391af908e1"
      },
      "execution_count": null,
      "outputs": [
        {
          "output_type": "stream",
          "name": "stdout",
          "text": [
            "Hemos coprobado que la lista contiene todos los valores entre -69.0 y 77.0\n"
          ]
        }
      ]
    },
    {
      "cell_type": "markdown",
      "source": [
        "## **Cuestiones finales**"
      ],
      "metadata": {
        "id": "BMi3TP2fbI7r"
      }
    },
    {
      "cell_type": "markdown",
      "metadata": {
        "id": "eTFWUJQrtGcv"
      },
      "source": [
        "Enumera las referencias que has utilizado(si ha sido necesario) para llevar a cabo el trabajo"
      ]
    },
    {
      "cell_type": "markdown",
      "metadata": {
        "id": "YKQ_mRBttWsP"
      },
      "source": [
        "En la siguiente web podemos encontrar la implementación de la función product utilizada en la resolución mediante fuerza bruta: https://docs.python.org/3/library/itertools.html"
      ]
    },
    {
      "cell_type": "markdown",
      "metadata": {
        "id": "kAkDPUyRtYyH"
      },
      "source": [
        "Describe brevemente las lineas de como crees que es posible avanzar en el estudio del problema. Ten en cuenta incluso posibles variaciones del problema y/o variaciones al alza del tamaño"
      ]
    },
    {
      "cell_type": "markdown",
      "metadata": {
        "id": "IE0uZmo-tZu-"
      },
      "source": [
        "En base a lo que hemos realizado debería de poder optimizarse utilizando algoritmos heurísticos, ya que no es posible determinar una función objetivo que nos guíe hacia la solución óptima. Este problema es muy similar al de las N reinas y, como en ese caso, la mejor opción es resolverlo mediante algoritmos heurísticos. En este caso hemos podido resolverlo por fuerza bruta pero en caso de que el problema fuese más complejo no sería posible realizarlo mediante fuerza bruta al obtener un número de combinaciones posibles extremadamente alto."
      ]
    }
  ]
}