{
  "nbformat": 4,
  "nbformat_minor": 0,
  "metadata": {
    "colab": {
      "provenance": []
    },
    "kernelspec": {
      "name": "python3",
      "display_name": "Python 3"
    },
    "language_info": {
      "name": "python"
    }
  },
  "cells": [
    {
      "cell_type": "markdown",
      "source": [
        "# Actividad Guiada 1 - Algoritmos de Opmización\n",
        "\n",
        "Nombre: Ignacio González Sánchez\n",
        "\n",
        "Enlace Colab: https://colab.research.google.com/drive/10LWPOeiWmtV-gd0PsH9rADHrJdjhEn-t?usp=sharing\n",
        "\n",
        "Enlace gitHub: https://github.com/Immortal36/03MIAR---Algoritmos-de-Optimizacion-2022"
      ],
      "metadata": {
        "id": "XitspiPsQnFE"
      }
    },
    {
      "cell_type": "markdown",
      "source": [
        "## Resolución del problema: Torres de Hanoi mediante Divide y venceras"
      ],
      "metadata": {
        "id": "6PWGQTl1S-PD"
      }
    },
    {
      "cell_type": "code",
      "source": [
        "# Torres de Hanoi - Divide y venceras\n",
        "\n",
        "# N = número de fichas\n",
        "# Desde = nº de poste inicio\n",
        "# Hasta = nº poste final\n",
        "def Torres_Hanoi(N, desde, hasta):\n",
        "  if N == 1:\n",
        "    print(\"Mueve la ficha desde \" + str(desde) + \" hasta \" + str(hasta))\n",
        "\n",
        "  else:\n",
        "    Torres_Hanoi(N-1, desde, 6-desde-hasta)\n",
        "    print(\"Mueve la ficha desde \" + str(desde) + \" hasta \" + str(hasta))\n",
        "    Torres_Hanoi(N-1, 6-desde-hasta, hasta)"
      ],
      "metadata": {
        "id": "PfRAD-A_S2cj"
      },
      "execution_count": null,
      "outputs": []
    },
    {
      "cell_type": "code",
      "source": [
        "# Pruebas de la solución propuesta para Torres de Hanoi\n",
        "print(\"Solución para 1 ficha:\")\n",
        "Torres_Hanoi(1, 1, 3)\n",
        "\n",
        "print(\"\\nSolución para 3 ficha:\")\n",
        "Torres_Hanoi(3, 1, 3)\n",
        "\n",
        "print(\"\\nSolución para 5 ficha:\")\n",
        "Torres_Hanoi(5, 1, 3)"
      ],
      "metadata": {
        "colab": {
          "base_uri": "https://localhost:8080/"
        },
        "id": "N6DclIvGWixf",
        "outputId": "43baa32a-b557-4070-a736-444145354e6a"
      },
      "execution_count": null,
      "outputs": [
        {
          "output_type": "stream",
          "name": "stdout",
          "text": [
            "Solución para 1 ficha:\n",
            "Mueve la ficha desde 1 hasta 3\n",
            "\n",
            "Solución para 3 ficha:\n",
            "Mueve la ficha desde 1 hasta 3\n",
            "Mueve la ficha desde 1 hasta 2\n",
            "Mueve la ficha desde 3 hasta 2\n",
            "Mueve la ficha desde 1 hasta 3\n",
            "Mueve la ficha desde 2 hasta 1\n",
            "Mueve la ficha desde 2 hasta 3\n",
            "Mueve la ficha desde 1 hasta 3\n",
            "\n",
            "Solución para 5 ficha:\n",
            "Mueve la ficha desde 1 hasta 3\n",
            "Mueve la ficha desde 1 hasta 2\n",
            "Mueve la ficha desde 3 hasta 2\n",
            "Mueve la ficha desde 1 hasta 3\n",
            "Mueve la ficha desde 2 hasta 1\n",
            "Mueve la ficha desde 2 hasta 3\n",
            "Mueve la ficha desde 1 hasta 3\n",
            "Mueve la ficha desde 1 hasta 2\n",
            "Mueve la ficha desde 3 hasta 2\n",
            "Mueve la ficha desde 3 hasta 1\n",
            "Mueve la ficha desde 2 hasta 1\n",
            "Mueve la ficha desde 3 hasta 2\n",
            "Mueve la ficha desde 1 hasta 3\n",
            "Mueve la ficha desde 1 hasta 2\n",
            "Mueve la ficha desde 3 hasta 2\n",
            "Mueve la ficha desde 1 hasta 3\n",
            "Mueve la ficha desde 2 hasta 1\n",
            "Mueve la ficha desde 2 hasta 3\n",
            "Mueve la ficha desde 1 hasta 3\n",
            "Mueve la ficha desde 2 hasta 1\n",
            "Mueve la ficha desde 3 hasta 2\n",
            "Mueve la ficha desde 3 hasta 1\n",
            "Mueve la ficha desde 2 hasta 1\n",
            "Mueve la ficha desde 2 hasta 3\n",
            "Mueve la ficha desde 1 hasta 3\n",
            "Mueve la ficha desde 1 hasta 2\n",
            "Mueve la ficha desde 3 hasta 2\n",
            "Mueve la ficha desde 1 hasta 3\n",
            "Mueve la ficha desde 2 hasta 1\n",
            "Mueve la ficha desde 2 hasta 3\n",
            "Mueve la ficha desde 1 hasta 3\n"
          ]
        }
      ]
    },
    {
      "cell_type": "markdown",
      "source": [
        "## Resolución del problema: Cambio de monedas mediante Técnica voraz"
      ],
      "metadata": {
        "id": "pAielbMMTCSj"
      }
    },
    {
      "cell_type": "code",
      "source": [
        "# Cambio de monedas - Técnica voraz\n",
        "\n",
        "# Cantidad: Cantidad a cambiar\n",
        "# Sistema: Valor de las diferentes monedas ordenadas de mayor a menor valor\n",
        "def cambio_monedas(cantidad, sistema):\n",
        "  solucion = {}\n",
        "\n",
        "  for v in sistema:\n",
        "    monedas = cantidad // v\n",
        "    solucion[v] = monedas\n",
        "    cantidad -= monedas * v\n",
        "\n",
        "    if cantidad == 0:\n",
        "      return solucion"
      ],
      "metadata": {
        "id": "OHFy5yl5e0DZ"
      },
      "execution_count": null,
      "outputs": []
    },
    {
      "cell_type": "code",
      "source": [
        "# Pruebas de la solución propuesta para Cambio de monedas\n",
        "print(\"Solución para una cantidad de 123 y un sistema [11, 5, 1]:\")\n",
        "cambio_monedas(123, [11, 5, 1])"
      ],
      "metadata": {
        "colab": {
          "base_uri": "https://localhost:8080/"
        },
        "id": "joTT9UAhi4bw",
        "outputId": "c9c676ed-2121-4d96-eedf-2bf3435320eb"
      },
      "execution_count": null,
      "outputs": [
        {
          "output_type": "stream",
          "name": "stdout",
          "text": [
            "Solución para una cantidad de 123 y un sistema [11, 5, 1]:\n"
          ]
        },
        {
          "output_type": "execute_result",
          "data": {
            "text/plain": [
              "{11: 11, 5: 0, 1: 2}"
            ]
          },
          "metadata": {},
          "execution_count": 69
        }
      ]
    },
    {
      "cell_type": "markdown",
      "source": [
        "## Resolución del problema: N Reinas mediante Backtracking"
      ],
      "metadata": {
        "id": "KKIA9VBDTGnd"
      }
    },
    {
      "cell_type": "code",
      "metadata": {
        "id": "H4Iwt2XRZTFr"
      },
      "source": [
        "#N Reinas - Backtracking\n",
        "\n",
        "#Verifica que en la solución parcial no hay amenzas entre reinas\n",
        "def es_prometedora(SOLUCION,etapa):\n",
        "  #Si la solución tiene dos valores iguales no es valida => Dos reinas en la misma fila\n",
        "  for i in range(etapa+1):\n",
        "    if SOLUCION.count(SOLUCION[i]) > 1:       \n",
        "      return False\n",
        "  \n",
        "    #Verifica las diagonales\n",
        "    for j in range(i+1, etapa +1 ):\n",
        "      if abs(i-j) == abs(SOLUCION[i]-SOLUCION[j]) : return False\n",
        "  return True\n",
        "\n",
        "\n",
        "#Traduce la solución al tablero\n",
        "def escribe_solucion(S):\n",
        "  n = len(S)\n",
        "  for x in range(n):\n",
        "    print(\"\")\n",
        "    for i in range(n):\n",
        "      if S[i] == x+1:\n",
        "        print(\" X \" , end=\"\")\n",
        "      else:\n",
        "        print(\" - \", end=\"\")\n",
        "\n",
        "\n",
        "#Proceso principal de N-Reinas\n",
        "def reinas(N, solucion=[],etapa=0): \n",
        "  if len(solucion) == 0:\n",
        "    solucion = [0 for i in range(N) ]\n",
        "  \n",
        "  for i in range(1, N+1):\n",
        "    solucion[etapa] = i\n",
        "    if es_prometedora(solucion, etapa):\n",
        "      if etapa == N-1:\n",
        "        print(solucion)\n",
        "      else:  \n",
        "        reinas(N, solucion, etapa+1)\n",
        "    else:\n",
        "      None\n",
        "  \n",
        "  solucion[etapa] = 0"
      ],
      "execution_count": null,
      "outputs": []
    },
    {
      "cell_type": "code",
      "source": [
        "# Pruebas de la solución propuesta para N-Reinas\n",
        "print(\"Solución para una 4 reinas\")\n",
        "reinas(4,solucion=[],etapa=0)\n",
        "escribe_solucion([2, 4, 1, 3])"
      ],
      "metadata": {
        "colab": {
          "base_uri": "https://localhost:8080/"
        },
        "id": "w6aGPbNEobmY",
        "outputId": "b7791ca6-be0d-4c1d-f380-c3d77a62e28b"
      },
      "execution_count": null,
      "outputs": [
        {
          "output_type": "stream",
          "name": "stdout",
          "text": [
            "Solución para una 4 reinas\n",
            "[2, 4, 1, 3]\n",
            "[3, 1, 4, 2]\n",
            "\n",
            " -  -  X  - \n",
            " X  -  -  - \n",
            " -  -  -  X \n",
            " -  X  -  - "
          ]
        }
      ]
    },
    {
      "cell_type": "markdown",
      "source": [
        "## Resolución del problema: Encontrar los dos puntos más cercanos"
      ],
      "metadata": {
        "id": "e-yrx4_xpyP5"
      }
    }
  ]
}